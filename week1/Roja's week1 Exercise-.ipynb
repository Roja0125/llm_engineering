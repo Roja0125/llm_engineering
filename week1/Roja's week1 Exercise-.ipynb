{
 "cells": [
  {
   "cell_type": "markdown",
   "id": "fe12c203-e6a6-452c-a655-afb8a03a4ff5",
   "metadata": {},
   "source": [
    "# End of week 1 exercise\n",
    "\n",
    "To demonstrate your familiarity with OpenAI API, and also Ollama, build a tool that takes a technical question,  \n",
    "and responds with an explanation. This is a tool that you will be able to use yourself during the course!"
   ]
  },
  {
   "cell_type": "code",
   "execution_count": 85,
   "id": "c1070317-3ed9-4659-abe3-828943230e03",
   "metadata": {},
   "outputs": [],
   "source": [
    "# imports\n",
    "\n",
    "import os\n",
    "import requests\n",
    "import json\n",
    "import ollama\n",
    "from typing import List\n",
    "from dotenv import load_dotenv\n",
    "from bs4 import BeautifulSoup\n",
    "from IPython.display import Markdown, display, update_display\n",
    "from openai import OpenAI\n"
   ]
  },
  {
   "cell_type": "code",
   "execution_count": 86,
   "id": "4a456906-915a-4bfd-bb9d-57e505c5093f",
   "metadata": {},
   "outputs": [
    {
     "name": "stdout",
     "output_type": "stream",
     "text": [
      "API key found and looks good so far!\n"
     ]
    }
   ],
   "source": [
    "# constants\n",
    "load_dotenv(override=True)\n",
    "api_key = os.getenv('OPENAI_API_KEY')\n",
    "\n",
    "# Check the key\n",
    "\n",
    "if not api_key:\n",
    "    print(\"No API key was found - please head over to the troubleshooting notebook in this folder to identify & fix!\")\n",
    "elif not api_key.startswith(\"sk-proj-\"):\n",
    "    print(\"An API key was found, but it doesn't start sk-proj-; please check you're using the right key - see troubleshooting notebook\")\n",
    "elif api_key.strip() != api_key:\n",
    "    print(\"An API key was found, but it looks like it might have space or tab characters at the start or end - please remove them - see troubleshooting notebook\")\n",
    "else:\n",
    "    print(\"API key found and looks good so far!\")\n",
    "\n",
    "    \n",
    "MODEL = 'gpt-4o-mini'\n",
    "MODEL_LLAMA = 'llama3.2'\n",
    "openai = OpenAI()"
   ]
  },
  {
   "cell_type": "code",
   "execution_count": 87,
   "id": "a8d7923c-5f28-4c30-8556-342d7c8497c1",
   "metadata": {},
   "outputs": [],
   "source": [
    "# set up environment\n",
    "\n",
    "class Website:\n",
    "    \"\"\"\n",
    "    A simple utility class to represent a scraped website, including its title, text, and links.\n",
    "    \"\"\"\n",
    "\n",
    "    HEADERS = {\n",
    "        \"User-Agent\": \"Mozilla/5.0 (Windows NT 10.0; Win64; x64) AppleWebKit/537.36 (KHTML, like Gecko) Chrome/117.0.0.0 Safari/537.36\"\n",
    "    }\n",
    "\n",
    "    def __init__(self, url):\n",
    "        self.url = url\n",
    "        self.title = \"No title found\"\n",
    "        self.text = \"\"\n",
    "        self.links = []\n",
    "\n",
    "        self._fetch()\n",
    "\n",
    "    def _fetch(self):\n",
    "        response = requests.get(self.url, headers=self.HEADERS)\n",
    "        soup = BeautifulSoup(response.content, 'html.parser')\n",
    "\n",
    "        if soup.title:\n",
    "            self.title = soup.title.string.strip()\n",
    "\n",
    "        if soup.body:\n",
    "            for tag in soup.body([\"script\", \"style\", \"img\", \"input\"]):\n",
    "                tag.decompose()\n",
    "            self.text = soup.body.get_text(separator=\"\\n\", strip=True)\n",
    "\n",
    "        self.links = [link.get('href') for link in soup.find_all('a', href=True)]\n",
    "\n",
    "    def get_contents(self):\n",
    "        return f\"Webpage Title:\\n{self.title}\\n\\nWebpage Contents:\\n{self.text}\\n\"\n"
   ]
  },
  {
   "cell_type": "code",
   "execution_count": 69,
   "id": "fe74e6b6-927f-4360-b2bf-b3593e6077ca",
   "metadata": {},
   "outputs": [],
   "source": [
    "system_prompt = \"You are a technical expert that can take users questions and provides responses\\\n",
    "                 Provide responses in a clear, simple, explanative and polite way\\\n",
    "                 Respond in markdown\"\n"
   ]
  },
  {
   "cell_type": "code",
   "execution_count": 75,
   "id": "8f6cc525-3684-497c-adf8-2262b9c0ef40",
   "metadata": {},
   "outputs": [],
   "source": [
    "def get_responses_user_prompt(question):\n",
    "    user_prompt = f\"Ask a question that needs technical explanation \"\n",
    "    user_prompt += \"Respond in technical terms.\\n\"\n",
    "    user_prompt += \"Links (some might be relative links):\\n\"\n",
    "    #user_prompt += \"\\n\".join(website.links)\n",
    "    return user_prompt"
   ]
  },
  {
   "cell_type": "code",
   "execution_count": 59,
   "id": "3f0d0137-52b0-47a8-81a8-11a90a010798",
   "metadata": {},
   "outputs": [
    {
     "name": "stdout",
     "output_type": "stream",
     "text": [
      "TCP (Transmission Control Protocol) and UDP (User Datagram Protocol) are two fundamental protocols used for data transmission over the Internet.\n",
      "\n",
      "### TCP (Transmission Control Protocol)\n",
      "- **Connection-Oriented**: Establishes a connection before data transfer and ensures reliable communication.\n",
      "- **Reliability**: Guarantees that data packets are delivered in order and without errors. If packets are lost, TCP will retransmit them.\n",
      "- **Flow Control**: Manages data flow to prevent overwhelming the receiver.\n",
      "- **Use Cases**: Ideal for applications where reliability is crucial, such as web browsing (HTTP/HTTPS), email (SMTP), and file transfers (FTP).\n",
      "\n",
      "### UDP (User Datagram Protocol)\n",
      "- **Connectionless**: Sends data without establishing a connection, which makes it faster but less reliable.\n",
      "- **No Guarantees**: Does not ensure packet delivery, order, or integrity. Packets may be lost or arrive out of order.\n",
      "- **Low Latency**: Suitable for applications where speed is\n",
      "**HTTPS (Hypertext Transfer Protocol Secure)** is an extension of HTTP that uses encryption to secure data transmitted between a user's web browser and a web server. It employs protocols like SSL/TLS to ensure that the communication is private and protected from eavesdropping, tampering, and man-in-the-middle attacks. HTTPS is essential for protecting sensitive information, such as login credentials and payment details, during online transactions.\n",
      "\n",
      "**SSH (Secure Shell)** is a cryptographic network protocol used to securely access and manage devices over an unsecured network. It provides a secure channel over an unsecured network by using encryption for data transmission. SSH is commonly used for remote server management, allowing users to execute commands securely on remote machines.\n",
      "\n",
      "### The Code Snippet Explained:\n",
      "The code snippet you provided is a Python generator expression that extracts authors from a collection of `books`. Here's a breakdown:\n",
      "\n",
      "```python\n",
      "yield from {book.get(\"author\") for book in books if book.get(\"author\")}\n",
      "```\n",
      "\n",
      "- **`{\n"
     ]
    }
   ],
   "source": [
    "# here is the question; type over this to ask something new\n",
    "\n",
    "def ask_technical_question(question):\n",
    "    response = openai.chat.completions.create(\n",
    "    model= MODEL,  \n",
    "    messages=[\n",
    "            {\"role\": \"system\", \"content\": system_prompt},\n",
    "            {\"role\": \"user\", \"content\": f\"Question: {question}\\n Answer:\"}\n",
    "        ],\n",
    "    max_tokens=200,  # Limit the response length\n",
    "    temperature=0.5  # Control the creativity of the response\n",
    "    )\n",
    "# Correct indentation\n",
    "    answer = response.choices[0].message.content\n",
    "    return answer\n",
    "\n",
    "# Example usage\n",
    "\n",
    "print(ask_technical_question(question))\n",
    "#create a system message to tell the model its answering a technical question.\n",
    "\n",
    "question = \"\"\"\n",
    " Please explain what https and ssh mean and why it is used:\n",
    " yield from {book.get(\"author\") for book in books if book.get(\"author\")}\n",
    "\"\"\"\n",
    "print(ask_technical_question(question))"
   ]
  },
  {
   "cell_type": "code",
   "execution_count": 81,
   "id": "60ce7000-a4a5-4cce-a261-e75ef45063b4",
   "metadata": {
    "scrolled": true
   },
   "outputs": [
    {
     "name": "stdin",
     "output_type": "stream",
     "text": [
      "Please enter your technical question:  SSH vs HTTPS\n"
     ]
    },
    {
     "data": {
      "text/markdown": [
       "Ah, the classic SSH vs. HTTPS debate! Both are used for secure communication, but they serve different purposes and have distinct characteristics. Let’s break it down:\n",
       "\n",
       "### SSH (Secure Shell)\n",
       "- **Purpose**: Primarily used for secure remote login and command execution on servers. It's also used for secure file transfers (like SCP and SFTP).\n",
       "- **Authentication**: Typically uses public/private key pairs for authentication. You can also use passwords, but keys are more secure.\n",
       "- **Port**: Default port is 22.\n",
       "- **Use Case**: Ideal for developers and administrators who need to access servers securely and perform operations remotely.\n",
       "\n",
       "### HTTPS (Hypertext Transfer Protocol Secure)\n",
       "- **Purpose**: Used to secure communications over a computer network, primarily the internet. It encrypts data transmitted between a web browser and a server.\n",
       "- **Authentication**: Relies on SSL/TLS certificates to authenticate the server and establish a secure connection.\n",
       "- **Port**: Default port is"
      ],
      "text/plain": [
       "<IPython.core.display.Markdown object>"
      ]
     },
     "metadata": {},
     "output_type": "display_data"
    }
   ],
   "source": [
    "# Get gpt-4o-mini to answer, with streaming\n",
    "\n",
    "# Send the question to the OpenAI model and get the response\n",
    "\n",
    "def multishot(question):\n",
    "    # Define previous interactions and system prompt for multi-shot prompting\n",
    "    previous_interactions = [\n",
    "        {\"role\": \"system\", \"content\": \"You are a fun and cheerful technical expert \"},\n",
    "        \n",
    "        # Example of a prior user request (can be expanded with more interactions)\n",
    "        {\"role\": \"user\", \"content\": \"Can you help me answer this technical question?\"},  \n",
    "        \n",
    "        {\"role\": \"assistant\", \"content\": \"Of course! I'd be happy to help you with that. Could you please provide the question and context?\"},\n",
    "\n",
    "        {\"role\": \"user\", \"content\": \"What is wrong with this code? This is the error message I get\"},\n",
    "\n",
    "        {\"role\": \"assistant\", \"content\": \"Got it! Thank you. Let me check the error and your code.\"},\n",
    "\n",
    "        # You can include more prior examples or questions here\n",
    "    ]\n",
    "\n",
    "    # Add the current user prompt as the next interaction\n",
    "    previous_interactions.append(\n",
    "        {\"role\": \"user\", \"content\": question}\n",
    "    )\n",
    "\n",
    "    # Stream the user response and display back to the user\n",
    "\n",
    "    stream = openai.chat.completions.create(\n",
    "    model= MODEL,  \n",
    "    messages= previous_interactions,\n",
    "    stream=True,\n",
    "    max_tokens=200,  # Limit the response length\n",
    "    temperature=0.5  # Control the creativity of the response\n",
    "    )\n",
    "\n",
    "    response = \"\"\n",
    "    display_handle = display(Markdown(\"\"), display_id=True)\n",
    "    \n",
    "    # Loop through the stream and build the response incrementally\n",
    "    for chunk in stream:\n",
    "        response += chunk.choices[0].delta.content or ''\n",
    "        response = response.replace(\"```\", \"\").replace(\"markdown\", \"\")\n",
    "        update_display(Markdown(response), display_id=display_handle.display_id)\n",
    "\n",
    "question = input(\"Please enter your technical question: \")\n",
    "multishot(question)"
   ]
  },
  {
   "cell_type": "code",
   "execution_count": 92,
   "id": "8f7c8ea8-4082-4ad0-8751-3301adcf6538",
   "metadata": {},
   "outputs": [
    {
     "name": "stdin",
     "output_type": "stream",
     "text": [
      "Please enter your technical question:  http vs ssh\n"
     ]
    },
    {
     "data": {
      "text/markdown": [
       "HTTP (Hypertext Transfer Protocol) and SSH (Secure Shell) are two different protocols used for transferring data over the internet.\n",
       "\n",
       "**HTTP**\n",
       "\n",
       "HTTP is a request-response protocol that uses TCP/IP to transfer data between a client (usually a web browser) and a server. It's commonly used for:\n",
       "\n",
       "* Web browsing\n",
       "* File transfers\n",
       "* Email\n",
       "\n",
       "**Security concerns:**\n",
       "\n",
       "1. **Insecure by default**: HTTP is not encrypted by default, making it vulnerable to eavesdropping, tampering, and man-in-the-middle attacks.\n",
       "2. **Data exposure**: HTTP requests can be intercepted and read by unauthorized parties.\n",
       "\n",
       "**SSH**\n",
       "\n",
       "SSH is a secure communication protocol that uses encryption (specifically, the Transport Layer Security/Secure Sockets Layer protocol) to securely transfer data between two endpoints over an insecure network.\n",
       "\n",
       "**Security benefits:**\n",
       "\n",
       "1. **Encryption**: SSH encrypts all data transmitted, ensuring confidentiality, integrity, and authenticity.\n",
       "2. **Authentication**: SSH provides secure"
      ],
      "text/plain": [
       "<IPython.core.display.Markdown object>"
      ]
     },
     "metadata": {},
     "output_type": "display_data"
    }
   ],
   "source": [
    "# Get Llama 3.2 to answer\n",
    "\n",
    "\n",
    "\n",
    "def multishot(question):\n",
    "    # Define previous interactions and system prompt for multi-shot prompting\n",
    "    previous_interactions = [\n",
    "        {\"role\": \"system\", \"content\": \"You are a fun and cheerful technical expert \"},\n",
    "        \n",
    "        # Example of a prior user request (can be expanded with more interactions)\n",
    "        {\"role\": \"user\", \"content\": \"Can you help me answer this technical question?\"},  \n",
    "        \n",
    "        {\"role\": \"assistant\", \"content\": \"Of course! I'd be happy to help you with that. Could you please provide the question and context?\"},\n",
    "\n",
    "        {\"role\": \"user\", \"content\": \"What is wrong with this code? This is the error message I get\"},\n",
    "\n",
    "        {\"role\": \"assistant\", \"content\": \"Got it! Thank you. Let me check the error and your code.\"},\n",
    "\n",
    "        # You can include more prior examples or questions here\n",
    "    ]\n",
    "\n",
    "    # Add the current user prompt as the next interaction\n",
    "    previous_interactions.append(\n",
    "        {\"role\": \"user\", \"content\": question}\n",
    "    )\n",
    "\n",
    "    # Stream the user response and display back to the user\n",
    "\n",
    "    stream = ollama.chat(\n",
    "    model= MODEL_LLAMA,  \n",
    "    messages= previous_interactions,\n",
    "    stream=True,\n",
    "    options={\n",
    "        \"num_predict\":200,  # Limit the response length\n",
    "        \"temperature\":0.5  # Control the creativity of the response\n",
    "       }\n",
    "    )\n",
    "\n",
    "    response = \"\"\n",
    "    display_handle = display(Markdown(\"\"), display_id=True)\n",
    "    \n",
    "    # Loop through the stream and build the response incrementally\n",
    "    for chunk in stream:\n",
    "        if chunk.message and chunk.message.content:\n",
    "           response += chunk.message.content\n",
    "           response = response.replace(\"```\", \"\").replace(\"markdown\", \"\")\n",
    "           update_display(Markdown(response), display_id=display_handle.display_id)\n",
    "\n",
    "question = input(\"Please enter your technical question: \")\n",
    "multishot(question)"
   ]
  },
  {
   "cell_type": "code",
   "execution_count": null,
   "id": "aed1dd5d-dc4c-43bd-9cf0-c14a14a6e8d7",
   "metadata": {},
   "outputs": [],
   "source": []
  }
 ],
 "metadata": {
  "kernelspec": {
   "display_name": "Python 3 (ipykernel)",
   "language": "python",
   "name": "python3"
  },
  "language_info": {
   "codemirror_mode": {
    "name": "ipython",
    "version": 3
   },
   "file_extension": ".py",
   "mimetype": "text/x-python",
   "name": "python",
   "nbconvert_exporter": "python",
   "pygments_lexer": "ipython3",
   "version": "3.11.11"
  }
 },
 "nbformat": 4,
 "nbformat_minor": 5
}
